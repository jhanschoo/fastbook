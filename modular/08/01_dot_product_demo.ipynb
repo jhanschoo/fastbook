{
 "cells": [
  {
   "cell_type": "markdown",
   "metadata": {},
   "source": [
    "We perform a demonstration of computing how well a person should be recommended a movie, under the dot-product model.\n",
    "\n",
    "Assume that movies and user preferences can be characterized by 3 real-valued features, that a higher number in the movie for each feature indicates that it exhibits more of the feature, and a higher number for a user in that feature indicates a greater preference for such features. We represent these as follows, and the match quality as follows."
   ]
  },
  {
   "cell_type": "code",
   "execution_count": 1,
   "metadata": {},
   "outputs": [
    {
     "data": {
      "text/plain": [
       "np.float64(2.1420000000000003)"
      ]
     },
     "execution_count": 1,
     "metadata": {},
     "output_type": "execute_result"
    }
   ],
   "source": [
    "import numpy as np\n",
    "\n",
    "user1 = np.array([0.9, 0.8, -0.6])\n",
    "last_skywalker = np.array([0.98, 0.9, -0.9])\n",
    "(user1*last_skywalker).sum()\n"
   ]
  },
  {
   "cell_type": "markdown",
   "metadata": {},
   "source": [
    "Below we demonstrate the computation for the same user and another movie."
   ]
  },
  {
   "cell_type": "code",
   "execution_count": 2,
   "metadata": {},
   "outputs": [
    {
     "data": {
      "text/plain": [
       "np.float64(-1.611)"
      ]
     },
     "execution_count": 2,
     "metadata": {},
     "output_type": "execute_result"
    }
   ],
   "source": [
    "\n",
    "casablanca = np.array([-0.99, -0.3, 0.8])\n",
    "(user1*casablanca).sum()"
   ]
  }
 ],
 "metadata": {
  "kernelspec": {
   "display_name": "fastbook",
   "language": "python",
   "name": "python3"
  },
  "language_info": {
   "codemirror_mode": {
    "name": "ipython",
    "version": 3
   },
   "file_extension": ".py",
   "mimetype": "text/x-python",
   "name": "python",
   "nbconvert_exporter": "python",
   "pygments_lexer": "ipython3",
   "version": "3.12.3"
  }
 },
 "nbformat": 4,
 "nbformat_minor": 2
}
