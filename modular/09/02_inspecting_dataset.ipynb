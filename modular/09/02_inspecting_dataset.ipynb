{
 "cells": [
  {
   "cell_type": "code",
   "execution_count": 1,
   "metadata": {},
   "outputs": [],
   "source": [
    "from fastai.tabular.all import *\n",
    "\n",
    "comp = 'bluebook-for-bulldozers'\n",
    "path = URLs.path(comp)\n",
    "\n",
    "Path.BASE_PATH = path"
   ]
  },
  {
   "cell_type": "markdown",
   "metadata": {},
   "source": [
    "From the website:\n",
    "\n",
    "The data for this competition is split into three parts:\n",
    "\n",
    "- `Train.csv` is the training set, which contains data through the end of 2011.\n",
    "- `Valid.csv` is the validation set, which contains data from January 1, 2012 - April 30, 2012 You make predictions on this set throughout the majority of the competition. Your score on this set is used to create the public leaderboard.\n",
    "- `Test.csv` is the test set, which won't be released until the last week of the competition. It contains data from May 1, 2012 - November 2012. Your score on the test set determines your final rank for the competition.\n",
    "\n",
    "The key fields are in train.csv are:\n",
    "\n",
    "- `SalesID`: the uniue identifier of the sale\n",
    "- `MachineID`: the unique identifier of a machine.  A machine can be sold multiple times\n",
    "- `saleprice`: what the machine sold for at auction (only provided in train.csv)\n",
    "- `saledate`: the date of the sale\n",
    "\n",
    "There are several fields towards the end of the file on the different options a machine can have.  The descriptions all start with \"machine configuration\" in the data dictionary.  Some product types do not have a particular option, so all the records for that option variable will be null for that product type.  Also, some sources do not provide good option and/or hours data.\n",
    "\n",
    "The machine_appendix.csv file contains the correct year manufactured for a given machine along with the make, model, and product class details. There is one machine id for every machine in all the competition datasets (training, evaluation, etc.).\n",
    "\n"
   ]
  },
  {
   "cell_type": "markdown",
   "metadata": {},
   "source": [
    "Considering the lack of information on the columns of the dataset, we have to do some analysis to clean it up.\n",
    "\n",
    "We use `dtype=object` and `convert_dtypes` so that our dataframe uses proper Pandas extension datatypes (nullable numpy types) for numeric types. Otherwise, as in `auctioneerID`, an integral type would be inferred as a float type due to missing values, which become `nan`. On the other hand, `convert_string=False` is left in since `Categorify` cannot deal with `pd.NA` in `string[python]` datatypes at least; here we have left it as a mixed datatype with `nan` for missing values, which is what `Categorify` expects."
   ]
  },
  {
   "cell_type": "code",
   "execution_count": 2,
   "metadata": {},
   "outputs": [
    {
     "data": {
      "text/html": [
       "<div>\n",
       "<style scoped>\n",
       "    .dataframe tbody tr th:only-of-type {\n",
       "        vertical-align: middle;\n",
       "    }\n",
       "\n",
       "    .dataframe tbody tr th {\n",
       "        vertical-align: top;\n",
       "    }\n",
       "\n",
       "    .dataframe thead th {\n",
       "        text-align: right;\n",
       "    }\n",
       "</style>\n",
       "<table border=\"1\" class=\"dataframe\">\n",
       "  <thead>\n",
       "    <tr style=\"text-align: right;\">\n",
       "      <th></th>\n",
       "      <th>SalesID</th>\n",
       "      <th>SalePrice</th>\n",
       "      <th>MachineID</th>\n",
       "      <th>ModelID</th>\n",
       "      <th>datasource</th>\n",
       "      <th>auctioneerID</th>\n",
       "      <th>YearMade</th>\n",
       "      <th>MachineHoursCurrentMeter</th>\n",
       "      <th>UsageBand</th>\n",
       "      <th>saledate</th>\n",
       "      <th>...</th>\n",
       "      <th>Undercarriage_Pad_Width</th>\n",
       "      <th>Stick_Length</th>\n",
       "      <th>Thumb</th>\n",
       "      <th>Pattern_Changer</th>\n",
       "      <th>Grouser_Type</th>\n",
       "      <th>Backhoe_Mounting</th>\n",
       "      <th>Blade_Type</th>\n",
       "      <th>Travel_Controls</th>\n",
       "      <th>Differential_Type</th>\n",
       "      <th>Steering_Controls</th>\n",
       "    </tr>\n",
       "  </thead>\n",
       "  <tbody>\n",
       "    <tr>\n",
       "      <th>0</th>\n",
       "      <td>1139246</td>\n",
       "      <td>66000.0</td>\n",
       "      <td>999089</td>\n",
       "      <td>3157</td>\n",
       "      <td>121</td>\n",
       "      <td>3</td>\n",
       "      <td>2004</td>\n",
       "      <td>68</td>\n",
       "      <td>Low</td>\n",
       "      <td>11/16/2006 0:00</td>\n",
       "      <td>...</td>\n",
       "      <td>None</td>\n",
       "      <td>None</td>\n",
       "      <td>None</td>\n",
       "      <td>None</td>\n",
       "      <td>None</td>\n",
       "      <td>None</td>\n",
       "      <td>None</td>\n",
       "      <td>None</td>\n",
       "      <td>Standard</td>\n",
       "      <td>Conventional</td>\n",
       "    </tr>\n",
       "    <tr>\n",
       "      <th>1</th>\n",
       "      <td>1139248</td>\n",
       "      <td>57000.0</td>\n",
       "      <td>117657</td>\n",
       "      <td>77</td>\n",
       "      <td>121</td>\n",
       "      <td>3</td>\n",
       "      <td>1996</td>\n",
       "      <td>4640</td>\n",
       "      <td>Low</td>\n",
       "      <td>3/26/2004 0:00</td>\n",
       "      <td>...</td>\n",
       "      <td>None</td>\n",
       "      <td>None</td>\n",
       "      <td>None</td>\n",
       "      <td>None</td>\n",
       "      <td>None</td>\n",
       "      <td>None</td>\n",
       "      <td>None</td>\n",
       "      <td>None</td>\n",
       "      <td>Standard</td>\n",
       "      <td>Conventional</td>\n",
       "    </tr>\n",
       "    <tr>\n",
       "      <th>2</th>\n",
       "      <td>1139249</td>\n",
       "      <td>10000.0</td>\n",
       "      <td>434808</td>\n",
       "      <td>7009</td>\n",
       "      <td>121</td>\n",
       "      <td>3</td>\n",
       "      <td>2001</td>\n",
       "      <td>2838</td>\n",
       "      <td>High</td>\n",
       "      <td>2/26/2004 0:00</td>\n",
       "      <td>...</td>\n",
       "      <td>None</td>\n",
       "      <td>None</td>\n",
       "      <td>None</td>\n",
       "      <td>None</td>\n",
       "      <td>None</td>\n",
       "      <td>None</td>\n",
       "      <td>None</td>\n",
       "      <td>None</td>\n",
       "      <td>None</td>\n",
       "      <td>None</td>\n",
       "    </tr>\n",
       "    <tr>\n",
       "      <th>3</th>\n",
       "      <td>1139251</td>\n",
       "      <td>38500.0</td>\n",
       "      <td>1026470</td>\n",
       "      <td>332</td>\n",
       "      <td>121</td>\n",
       "      <td>3</td>\n",
       "      <td>2001</td>\n",
       "      <td>3486</td>\n",
       "      <td>High</td>\n",
       "      <td>5/19/2011 0:00</td>\n",
       "      <td>...</td>\n",
       "      <td>None</td>\n",
       "      <td>None</td>\n",
       "      <td>None</td>\n",
       "      <td>None</td>\n",
       "      <td>None</td>\n",
       "      <td>None</td>\n",
       "      <td>None</td>\n",
       "      <td>None</td>\n",
       "      <td>None</td>\n",
       "      <td>None</td>\n",
       "    </tr>\n",
       "    <tr>\n",
       "      <th>4</th>\n",
       "      <td>1139253</td>\n",
       "      <td>11000.0</td>\n",
       "      <td>1057373</td>\n",
       "      <td>17311</td>\n",
       "      <td>121</td>\n",
       "      <td>3</td>\n",
       "      <td>2007</td>\n",
       "      <td>722</td>\n",
       "      <td>Medium</td>\n",
       "      <td>7/23/2009 0:00</td>\n",
       "      <td>...</td>\n",
       "      <td>None</td>\n",
       "      <td>None</td>\n",
       "      <td>None</td>\n",
       "      <td>None</td>\n",
       "      <td>None</td>\n",
       "      <td>None</td>\n",
       "      <td>None</td>\n",
       "      <td>None</td>\n",
       "      <td>None</td>\n",
       "      <td>None</td>\n",
       "    </tr>\n",
       "  </tbody>\n",
       "</table>\n",
       "<p>5 rows × 53 columns</p>\n",
       "</div>"
      ],
      "text/plain": [
       "   SalesID  SalePrice  MachineID  ModelID  datasource  auctioneerID  YearMade  \\\n",
       "0  1139246    66000.0     999089     3157         121             3      2004   \n",
       "1  1139248    57000.0     117657       77         121             3      1996   \n",
       "2  1139249    10000.0     434808     7009         121             3      2001   \n",
       "3  1139251    38500.0    1026470      332         121             3      2001   \n",
       "4  1139253    11000.0    1057373    17311         121             3      2007   \n",
       "\n",
       "   MachineHoursCurrentMeter UsageBand         saledate  ...  \\\n",
       "0                        68       Low  11/16/2006 0:00  ...   \n",
       "1                      4640       Low   3/26/2004 0:00  ...   \n",
       "2                      2838      High   2/26/2004 0:00  ...   \n",
       "3                      3486      High   5/19/2011 0:00  ...   \n",
       "4                       722    Medium   7/23/2009 0:00  ...   \n",
       "\n",
       "  Undercarriage_Pad_Width Stick_Length Thumb Pattern_Changer Grouser_Type  \\\n",
       "0                    None         None  None            None         None   \n",
       "1                    None         None  None            None         None   \n",
       "2                    None         None  None            None         None   \n",
       "3                    None         None  None            None         None   \n",
       "4                    None         None  None            None         None   \n",
       "\n",
       "  Backhoe_Mounting Blade_Type Travel_Controls Differential_Type  \\\n",
       "0             None       None            None          Standard   \n",
       "1             None       None            None          Standard   \n",
       "2             None       None            None              None   \n",
       "3             None       None            None              None   \n",
       "4             None       None            None              None   \n",
       "\n",
       "  Steering_Controls  \n",
       "0      Conventional  \n",
       "1      Conventional  \n",
       "2              None  \n",
       "3              None  \n",
       "4              None  \n",
       "\n",
       "[5 rows x 53 columns]"
      ]
     },
     "execution_count": 2,
     "metadata": {},
     "output_type": "execute_result"
    }
   ],
   "source": [
    "df = pd.read_csv(path/'TrainAndValid.csv', engine='pyarrow', dtype=object).convert_dtypes(convert_string=False)\n",
    "for colname, col_dtype in df.dtypes.items():\n",
    "    if col_dtype != np.dtype('O'):\n",
    "        continue\n",
    "    df.loc[df[colname] == '', colname] = np.nan\n",
    "df.head()"
   ]
  },
  {
   "cell_type": "markdown",
   "metadata": {},
   "source": [
    "We also inspect the fields to have a look at the inferred `dtypes`, and the number of filled values. One looks for e.g. ID columns, and ensuries that they have a sensible `dtype`, and sees if the ID are primary-like in the sense that they are mostly non-null."
   ]
  },
  {
   "cell_type": "code",
   "execution_count": 3,
   "metadata": {},
   "outputs": [
    {
     "name": "stdout",
     "output_type": "stream",
     "text": [
      "<class 'pandas.core.frame.DataFrame'>\n",
      "RangeIndex: 412698 entries, 0 to 412697\n",
      "Data columns (total 53 columns):\n",
      " #   Column                    Non-Null Count   Dtype  \n",
      "---  ------                    --------------   -----  \n",
      " 0   SalesID                   412698 non-null  Int64  \n",
      " 1   SalePrice                 412698 non-null  Float64\n",
      " 2   MachineID                 412698 non-null  Int64  \n",
      " 3   ModelID                   412698 non-null  Int64  \n",
      " 4   datasource                412698 non-null  Int64  \n",
      " 5   auctioneerID              392562 non-null  Int64  \n",
      " 6   YearMade                  412698 non-null  Int64  \n",
      " 7   MachineHoursCurrentMeter  147504 non-null  Int64  \n",
      " 8   UsageBand                 73670 non-null   object \n",
      " 9   saledate                  412698 non-null  object \n",
      " 10  fiModelDesc               412698 non-null  object \n",
      " 11  fiBaseModel               412698 non-null  object \n",
      " 12  fiSecondaryDesc           271971 non-null  object \n",
      " 13  fiModelSeries             58667 non-null   object \n",
      " 14  fiModelDescriptor         74816 non-null   object \n",
      " 15  ProductSize               196093 non-null  object \n",
      " 16  fiProductClassDesc        412698 non-null  object \n",
      " 17  state                     412698 non-null  object \n",
      " 18  ProductGroup              412698 non-null  object \n",
      " 19  ProductGroupDesc          412698 non-null  object \n",
      " 20  Drive_System              107087 non-null  object \n",
      " 21  Enclosure                 412364 non-null  object \n",
      " 22  Forks                     197715 non-null  object \n",
      " 23  Pad_Type                  81096 non-null   object \n",
      " 24  Ride_Control              152728 non-null  object \n",
      " 25  Stick                     81096 non-null   object \n",
      " 26  Transmission              188007 non-null  object \n",
      " 27  Turbocharged              81096 non-null   object \n",
      " 28  Blade_Extension           25983 non-null   object \n",
      " 29  Blade_Width               25983 non-null   object \n",
      " 30  Enclosure_Type            25983 non-null   object \n",
      " 31  Engine_Horsepower         25983 non-null   object \n",
      " 32  Hydraulics                330133 non-null  object \n",
      " 33  Pushblock                 25983 non-null   object \n",
      " 34  Ripper                    106945 non-null  object \n",
      " 35  Scarifier                 25994 non-null   object \n",
      " 36  Tip_Control               25983 non-null   object \n",
      " 37  Tire_Size                 97638 non-null   object \n",
      " 38  Coupler                   220679 non-null  object \n",
      " 39  Coupler_System            44974 non-null   object \n",
      " 40  Grouser_Tracks            44875 non-null   object \n",
      " 41  Hydraulics_Flow           44875 non-null   object \n",
      " 42  Track_Type                102193 non-null  object \n",
      " 43  Undercarriage_Pad_Width   102916 non-null  object \n",
      " 44  Stick_Length              102261 non-null  object \n",
      " 45  Thumb                     102332 non-null  object \n",
      " 46  Pattern_Changer           102261 non-null  object \n",
      " 47  Grouser_Type              102193 non-null  object \n",
      " 48  Backhoe_Mounting          80712 non-null   object \n",
      " 49  Blade_Type                81875 non-null   object \n",
      " 50  Travel_Controls           81877 non-null   object \n",
      " 51  Differential_Type         71564 non-null   object \n",
      " 52  Steering_Controls         71522 non-null   object \n",
      "dtypes: Float64(1), Int64(7), object(45)\n",
      "memory usage: 170.0+ MB\n"
     ]
    }
   ],
   "source": [
    "df.info(verbose=True)"
   ]
  },
  {
   "cell_type": "markdown",
   "metadata": {},
   "source": [
    "We also have a look at the number of unique values in each column, and see if there's anything we want to do with low-categorical factors. In addition, also look at the ID's to see if they are dynamic."
   ]
  },
  {
   "cell_type": "code",
   "execution_count": 4,
   "metadata": {},
   "outputs": [
    {
     "name": "stdout",
     "output_type": "stream",
     "text": [
      "SalesID 412698\n",
      "SalePrice 954\n",
      "MachineID 348808\n",
      "ModelID 5281\n",
      "datasource 6 <IntegerArray>\n",
      "[121, 132, 136, 149, 172, 173]\n",
      "Length: 6, dtype: Int64\n",
      "auctioneerID 30\n",
      "YearMade 73\n",
      "MachineHoursCurrentMeter 15633\n",
      "UsageBand 3 ['Low' 'High' 'Medium' None]\n",
      "saledate 4013\n",
      "fiModelDesc 5059\n",
      "fiBaseModel 1961\n",
      "fiSecondaryDesc 177\n",
      "fiModelSeries 123\n",
      "fiModelDescriptor 140\n",
      "ProductSize 6 [None 'Medium' 'Small' 'Large / Medium' 'Mini' 'Large' 'Compact']\n",
      "fiProductClassDesc 74\n",
      "state 53\n",
      "ProductGroup 6 ['WL' 'SSL' 'TEX' 'BL' 'TTT' 'MG']\n",
      "ProductGroupDesc 6 ['Wheel Loader' 'Skid Steer Loaders' 'Track Excavators' 'Backhoe Loaders'\n",
      " 'Track Type Tractors' 'Motor Graders']\n",
      "Drive_System 4 [None 'Four Wheel Drive' 'Two Wheel Drive' 'No' 'All Wheel Drive']\n",
      "Enclosure 6 ['EROPS w AC' 'OROPS' 'EROPS' None 'EROPS AC' 'NO ROPS'\n",
      " 'None or Unspecified']\n",
      "Forks 2 ['None or Unspecified' None 'Yes']\n",
      "Pad_Type 4 [None 'None or Unspecified' 'Reversible' 'Street' 'Grouser']\n",
      "Ride_Control 3 ['None or Unspecified' None 'No' 'Yes']\n",
      "Stick 2 [None 'Extended' 'Standard']\n",
      "Transmission 8 [None 'Powershuttle' 'Standard' 'Powershift' 'None or Unspecified'\n",
      " 'Hydrostatic' 'Autoshift' 'Direct Drive' 'AutoShift']\n",
      "Turbocharged 2 [None 'None or Unspecified' 'Yes']\n",
      "Blade_Extension 2 [None 'Yes' 'None or Unspecified']\n",
      "Blade_Width 6 [None 'None or Unspecified' \"12'\" \"14'\" \"13'\" \"16'\" \"<12'\"]\n",
      "Enclosure_Type 3 [None 'None or Unspecified' 'Low Profile' 'High Profile']\n",
      "Engine_Horsepower 2 [None 'No' 'Variable']\n",
      "Hydraulics 12 ['2 Valve' 'Auxiliary' None 'Standard' 'Base + 1 Function'\n",
      " 'Base + 3 Function' '4 Valve' '3 Valve' 'Base + 2 Function'\n",
      " 'Base + 4 Function' 'None or Unspecified' 'Base + 5 Function'\n",
      " 'Base + 6 Function']\n",
      "Pushblock 2 [None 'None or Unspecified' 'Yes']\n",
      "Ripper 4 [None 'None or Unspecified' 'Yes' 'Single Shank' 'Multi Shank']\n",
      "Scarifier 2 [None 'Yes' 'None or Unspecified']\n",
      "Tip_Control 3 [None 'Sideshift & Tip' 'None or Unspecified' 'Tip']\n",
      "Tire_Size 17 ['None or Unspecified' '23.5' None '13\"' '26.5' '29.5' '14\"' '20.5'\n",
      " '17.5\"' '15.5\"' '20.5\"' '17.5' '7.0\"' '15.5' '23.5\"' '10\"' '23.1\"'\n",
      " '10 inch']\n",
      "Coupler 3 ['None or Unspecified' None 'Manual' 'Hydraulic']\n",
      "Coupler_System 2 [None 'None or Unspecified' 'Yes']\n",
      "Grouser_Tracks 2 [None 'None or Unspecified' 'Yes']\n",
      "Hydraulics_Flow 3 [None 'Standard' 'High Flow' 'None or Unspecified']\n",
      "Track_Type 2 [None 'Steel' 'Rubber']\n",
      "Undercarriage_Pad_Width 19 [None 'None or Unspecified' '16 inch' '32 inch' '28 inch' '30 inch'\n",
      " '22 inch' '24 inch' '18 inch' '36 inch' '20 inch' '27 inch' '15 inch'\n",
      " '26 inch' '34 inch' '33 inch' '14 inch' '31 inch' '25 inch' '31.5 inch']\n",
      "Stick_Length 29\n",
      "Thumb 3 [None 'None or Unspecified' 'Hydraulic' 'Manual']\n",
      "Pattern_Changer 3 [None 'None or Unspecified' 'Yes' 'No']\n",
      "Grouser_Type 3 [None 'Double' 'Triple' 'Single']\n",
      "Backhoe_Mounting 2 [None 'None or Unspecified' 'Yes']\n",
      "Blade_Type 10 [None 'PAT' 'None or Unspecified' 'Semi U' 'VPAT' 'Straight' 'Angle' 'No'\n",
      " 'U' 'Landfill' 'Coal']\n",
      "Travel_Controls 7 [None 'None or Unspecified' 'Differential Steer' 'Lever' 'Finger Tip'\n",
      " '2 Pedal' 'Pedal' '1 Speed']\n",
      "Differential_Type 4 ['Standard' None 'Limited Slip' 'No Spin' 'Locking']\n",
      "Steering_Controls 5 ['Conventional' None 'Command Control' 'Four Wheel Standard' 'Wheel' 'No']\n"
     ]
    }
   ],
   "source": [
    "for colname, nunique in df.nunique().items():\n",
    "    if nunique <= 20:\n",
    "        print(colname, nunique, df[colname].unique())\n",
    "    else:\n",
    "        print(colname, nunique)"
   ]
  },
  {
   "cell_type": "markdown",
   "metadata": {},
   "source": [
    "For now, maybe we might want to spend some effort tidying up the data, starting from `ProductSize`. Unfortunately, from here onward, especially since we are interacting with the `fastai` library, we should convert them to NumPy datatypes."
   ]
  },
  {
   "cell_type": "markdown",
   "metadata": {},
   "source": [
    "We now tidy up `ProductSize`, by making its categorical nature explicit and also by explicating its natural ordering."
   ]
  },
  {
   "cell_type": "code",
   "execution_count": 5,
   "metadata": {},
   "outputs": [
    {
     "data": {
      "text/plain": [
       "0            NaN\n",
       "1         Medium\n",
       "2            NaN\n",
       "3          Small\n",
       "4            NaN\n",
       "           ...  \n",
       "412693      Mini\n",
       "412694      Mini\n",
       "412695      Mini\n",
       "412696      Mini\n",
       "412697      Mini\n",
       "Name: ProductSize, Length: 412698, dtype: category\n",
       "Categories (6, object): ['Large' < 'Large / Medium' < 'Medium' < 'Small' < 'Mini' < 'Compact']"
      ]
     },
     "execution_count": 5,
     "metadata": {},
     "output_type": "execute_result"
    }
   ],
   "source": [
    "sizes = 'Large', 'Large / Medium', 'Medium', 'Small', 'Mini', 'Compact'\n",
    "df['ProductSize'] = df['ProductSize'].astype('category')\n",
    "df['ProductSize'].cat.set_categories(sizes, ordered=True)"
   ]
  },
  {
   "cell_type": "markdown",
   "metadata": {},
   "source": [
    "We tidy up `SalePrice` by taking its logarithm."
   ]
  },
  {
   "cell_type": "code",
   "execution_count": 6,
   "metadata": {},
   "outputs": [],
   "source": [
    "dep_var = 'SalePrice'\n",
    "df[dep_var] = np.log(df[dep_var])"
   ]
  },
  {
   "cell_type": "markdown",
   "metadata": {},
   "source": [
    "We tidy up `saledate` with the use of `add_datepart`, to augment with information like holidays, day of week, etc., and then display all the fields related to it."
   ]
  },
  {
   "cell_type": "code",
   "execution_count": 7,
   "metadata": {},
   "outputs": [],
   "source": [
    "df['saledate'] = pd.to_datetime(df['saledate'], format='%m/%d/%Y 0:00')"
   ]
  },
  {
   "cell_type": "code",
   "execution_count": 8,
   "metadata": {},
   "outputs": [
    {
     "data": {
      "text/plain": [
       "'saleYear saleMonth saleWeek saleDay saleDayofweek saleDayofyear saleIs_month_end saleIs_month_start saleIs_quarter_end saleIs_quarter_start saleIs_year_end saleIs_year_start saleElapsed'"
      ]
     },
     "execution_count": 8,
     "metadata": {},
     "output_type": "execute_result"
    }
   ],
   "source": [
    "df = add_datepart(df, 'saledate')\n",
    "' '.join(o for o in df.columns if o.startswith('sale'))"
   ]
  },
  {
   "cell_type": "markdown",
   "metadata": {},
   "source": [
    "We will perform additional data cleaning later as we convert this dataframe into a `TabularPandas` object that behaves similarly to `Datasets`. We list them here; these are done by `TabularProc`s, which are like `Transform`s; except instead of creating derivatives as the data is accessed, it transforms the data eagerly, and in-place. `Categorify` replaces categorical variables with numerics, and `FillMissing` replaces missing values with the median of the column, then adds a boolean column to mark whether the corresponding value was synthetic.\n",
    "\n",
    "As for determining which columns are categorical and which continuous, we use the following helper function which implements a simple heuristic."
   ]
  },
  {
   "cell_type": "code",
   "execution_count": 9,
   "metadata": {},
   "outputs": [],
   "source": [
    "cont, cat = cont_cat_split(df, 1, dep_var=dep_var)\n",
    "procs = [Categorify, FillMissing]"
   ]
  },
  {
   "cell_type": "markdown",
   "metadata": {},
   "source": [
    "The next thing we have to do is determine the training/validation split. Since the objective is to predict future prices, we surmise that we should evaluate a model-creation strategy on its ability to create models that validate well on future data. In this case, that means that we should train a model on data before a certain cutoff and evaluate it on data after it, then train a model with the same hyperparameters on the full training set to obtain our final model. Hence we define the following split:"
   ]
  },
  {
   "cell_type": "code",
   "execution_count": 10,
   "metadata": {},
   "outputs": [],
   "source": [
    "cond = (df.saleYear < 2011) | (df.saleMonth < 10)\n",
    "train_idx = np.where(cond)[0]\n",
    "valid_idx = np.where(~cond)[0]\n",
    "\n",
    "splits = (list(train_idx), list(valid_idx))"
   ]
  },
  {
   "cell_type": "markdown",
   "metadata": {},
   "source": [
    "Finally, we create the tabular object."
   ]
  },
  {
   "cell_type": "code",
   "execution_count": 11,
   "metadata": {},
   "outputs": [
    {
     "name": "stderr",
     "output_type": "stream",
     "text": [
      "/home/jhanschoo/.local/share/hatch/env/virtual/fai/Rcp_9cR7/fastbook/lib/python3.12/site-packages/fastai/tabular/core.py:314: FutureWarning: A value is trying to be set on a copy of a DataFrame or Series through chained assignment using an inplace method.\n",
      "The behavior will change in pandas 3.0. This inplace method will never work because the intermediate object on which we are setting values always behaves as a copy.\n",
      "\n",
      "For example, when doing 'df[col].method(value, inplace=True)', try using 'df.method({col: value}, inplace=True)' or df[col] = df[col].method(value) instead, to perform the operation inplace on the original object.\n",
      "\n",
      "\n",
      "  to[n].fillna(self.na_dict[n], inplace=True)\n",
      "/home/jhanschoo/.local/share/hatch/env/virtual/fai/Rcp_9cR7/fastbook/lib/python3.12/site-packages/fastai/tabular/core.py:314: FutureWarning: A value is trying to be set on a copy of a DataFrame or Series through chained assignment using an inplace method.\n",
      "The behavior will change in pandas 3.0. This inplace method will never work because the intermediate object on which we are setting values always behaves as a copy.\n",
      "\n",
      "For example, when doing 'df[col].method(value, inplace=True)', try using 'df.method({col: value}, inplace=True)' or df[col] = df[col].method(value) instead, to perform the operation inplace on the original object.\n",
      "\n",
      "\n",
      "  to[n].fillna(self.na_dict[n], inplace=True)\n"
     ]
    }
   ],
   "source": [
    "to = TabularPandas(df, procs, cat, cont, y_names=dep_var, splits=splits)"
   ]
  }
 ],
 "metadata": {
  "kernelspec": {
   "display_name": "fastbook",
   "language": "python",
   "name": "python3"
  },
  "language_info": {
   "codemirror_mode": {
    "name": "ipython",
    "version": 3
   },
   "file_extension": ".py",
   "mimetype": "text/x-python",
   "name": "python",
   "nbconvert_exporter": "python",
   "pygments_lexer": "ipython3",
   "version": "3.12.3"
  }
 },
 "nbformat": 4,
 "nbformat_minor": 2
}
