{
 "cells": [
  {
   "cell_type": "markdown",
   "metadata": {},
   "source": [
    "Now that we have a dataset and a collation function, we're ready to create `DataLoader`. We'll add two more things here: an optional `shuffle` for the training set, and a `ProcessPoolExecutor` to do our preprocessing in parallel. A parallel data loader is very important, because opening and decoding a JPEG image is a slow process. One CPU core is not enough to decode images fast enough to keep a modern GPU busy. Here's our `DataLoader` class:"
   ]
  },
  {
   "cell_type": "code",
   "execution_count": 1,
   "metadata": {},
   "outputs": [],
   "source": [
    "from fastai.vision.all import *"
   ]
  },
  {
   "cell_type": "code",
   "execution_count": 2,
   "metadata": {},
   "outputs": [],
   "source": [
    "class Dataloader:\n",
    "    def __init__(self, ds, bs=128, shuffle=False, n_workers=1):\n",
    "        self.ds, self.bs, self.shuffle, self.n_workers = ds, bs, shuffle, n_workers\n",
    "    \n",
    "    def __len__(self):\n",
    "        return (len(self.ds) - 1) // self.bs + 1"
   ]
  },
  {
   "cell_type": "markdown",
   "metadata": {},
   "source": [
    "Now, the prelimiary definitions for the demo."
   ]
  },
  {
   "cell_type": "code",
   "execution_count": 3,
   "metadata": {},
   "outputs": [],
   "source": [
    "class Dataset:\n",
    "    def __init__(self, fns_ys):\n",
    "        self.fns, self.ys = fns_ys\n",
    "    def __len__(self):\n",
    "        return len(self.fns)\n",
    "    def __getitem__(self, i):\n",
    "        im = Image.open(self.fns[i]).resize((64,64)).convert('RGB')\n",
    "        return tensor(im).float()/255, tensor(self.ys[i])"
   ]
  },
  {
   "cell_type": "code",
   "execution_count": 4,
   "metadata": {},
   "outputs": [],
   "source": [
    "path = untar_data(URLs.IMAGENETTE_160)\n",
    "t = get_image_files(path)\n",
    "lbls = t.map(Self.parent.name()).unique()\n",
    "lidx = lbls.val2idx()\n",
    "y = L(lidx[o.parent.name] for o in t)\n",
    "train_filt = L(o.parent.parent.name == 'train' for o in t)\n",
    "train, valid = t[train_filt], t[~train_filt]\n",
    "train_y, valid_y = y[train_filt], t[~train_filt]\n",
    "train_ds, valid_ds = Dataset((train, train_y)), Dataset((valid, valid_y))"
   ]
  },
  {
   "cell_type": "code",
   "execution_count": 5,
   "metadata": {},
   "outputs": [],
   "source": [
    "\n",
    "def collate(idxs, ds):\n",
    "    xb, yb = zip(*[ds[i] for i in idxs])\n",
    "    return torch.stack(xb), torch.stack(yb)"
   ]
  }
 ],
 "metadata": {
  "kernelspec": {
   "display_name": "fastbook",
   "language": "python",
   "name": "python3"
  },
  "language_info": {
   "codemirror_mode": {
    "name": "ipython",
    "version": 3
   },
   "file_extension": ".py",
   "mimetype": "text/x-python",
   "name": "python",
   "nbconvert_exporter": "python",
   "pygments_lexer": "ipython3",
   "version": "3.12.3"
  }
 },
 "nbformat": 4,
 "nbformat_minor": 2
}
